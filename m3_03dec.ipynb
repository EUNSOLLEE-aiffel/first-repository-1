{
  "nbformat": 4,
  "nbformat_minor": 0,
  "metadata": {
    "colab": {
      "provenance": [],
      "include_colab_link": true
    },
    "kernelspec": {
      "name": "python3",
      "display_name": "Python 3"
    },
    "language_info": {
      "name": "python"
    }
  },
  "cells": [
    {
      "cell_type": "markdown",
      "metadata": {
        "id": "view-in-github",
        "colab_type": "text"
      },
      "source": [
        "<a href=\"https://colab.research.google.com/github/XIPT/first-repository/blob/master/m3_03dec.ipynb\" target=\"_parent\"><img src=\"https://colab.research.google.com/assets/colab-badge.svg\" alt=\"Open In Colab\"/></a>"
      ]
    },
    {
      "cell_type": "markdown",
      "source": [
        "--------------M3 최종 결과물"
      ],
      "metadata": {
        "id": "f7zhmsppaJnO"
      }
    },
    {
      "cell_type": "code",
      "source": [
        "def check_palindrome():  ## 회문 함수 작성\n",
        "    x = list(input())    ## 단어 입력\n",
        "    print(x)             ## 단어 출력\n",
        "\n",
        "    y = x[::-1]           ## 회문 생성\n",
        "    print(y)              ## 회문 출력\n",
        "\n",
        "    if x == y:              ## 회문 여부 파악 if 문\n",
        "        print(\"회문입니다.\")\n",
        "    else:\n",
        "        print(\"회문이 아닙니다.\")\n",
        "\n",
        "check_palindrome()"
      ],
      "metadata": {
        "id": "o4mui7MIK-Ox"
      },
      "execution_count": null,
      "outputs": []
    },
    {
      "cell_type": "code",
      "source": [
        "#앞으로 읽어도 우영우 꺼꾸로 읽어도 우영우\n",
        "##입력받은 문자를 거꾸로 돌려서 원래 입력받은 문자랑 같은지를 확인\n",
        "###글자를 얼마나 입력받을지 모르니 args함수를 써야겠지?\n",
        "\n",
        "\n",
        "origin = list(input(\"글자를 입력하세요:\"))  #글자입력 함수\n",
        "\n",
        "def reversed_text(*args):\n",
        "    '''이 함수는 입력받은 리스트 순서를 거꾸로 돌린후 비교하는 함수'''\n",
        "    compare = list(reversed(origin))      #revesed 내재 함수를 사용하여 origin list의 순서 변경\n",
        "    if origin == compare :\n",
        "        print(origin,\"회귀함수? : True\")\n",
        "    else :\n",
        "        print(origin,\"회귀함수? : False\")\n",
        "\n",
        "reversed_text(*origin)\n",
        "\n"
      ],
      "metadata": {
        "id": "o37gaBEXbANM"
      },
      "execution_count": null,
      "outputs": []
    },
    {
      "cell_type": "markdown",
      "source": [
        "-------- Test A"
      ],
      "metadata": {
        "id": "kHT3u3o1akCU"
      }
    },
    {
      "cell_type": "code",
      "execution_count": null,
      "metadata": {
        "colab": {
          "base_uri": "https://localhost:8080/"
        },
        "id": "4S_AUP1gFJiy",
        "outputId": "1bf90a63-b876-40a5-e004-b7f027dbb003"
      },
      "outputs": [
        {
          "output_type": "stream",
          "name": "stdout",
          "text": [
            "단어를 입력해 주십시오.우리나라\n",
            "['우', '리', '나', '라']\n"
          ]
        },
        {
          "output_type": "execute_result",
          "data": {
            "text/plain": [
              "4"
            ]
          },
          "metadata": {},
          "execution_count": 39
        }
      ],
      "source": [
        "x = list(input(\"단어를 입력해 주십시오.\"))  ## 단어 입력하기\n",
        "print(x)\n",
        "type(x)\n",
        "len(x)"
      ]
    },
    {
      "cell_type": "code",
      "source": [
        "def palindrome():\n",
        "  for i in range(-len(x):-1):\n",
        "      print(i, end='')"
      ],
      "metadata": {
        "colab": {
          "base_uri": "https://localhost:8080/",
          "height": 110
        },
        "id": "elkqVN8zKlQ3",
        "outputId": "2bae8065-5430-4086-e610-90173318d749"
      },
      "execution_count": null,
      "outputs": [
        {
          "output_type": "error",
          "ename": "SyntaxError",
          "evalue": "invalid syntax (<ipython-input-40-8ccfa4aad8b8>, line 2)",
          "traceback": [
            "\u001b[0;36m  File \u001b[0;32m\"<ipython-input-40-8ccfa4aad8b8>\"\u001b[0;36m, line \u001b[0;32m2\u001b[0m\n\u001b[0;31m    for i in range(-1:-len(x)):\u001b[0m\n\u001b[0m                     ^\u001b[0m\n\u001b[0;31mSyntaxError\u001b[0m\u001b[0;31m:\u001b[0m invalid syntax\n"
          ]
        }
      ]
    },
    {
      "cell_type": "code",
      "source": [
        "x = list(input(\"단어 입력 \"))\n",
        "print(x[i], end =\"\")\n",
        "for i in range(-len(x),-1):\n",
        "  print (i, end='')"
      ],
      "metadata": {
        "colab": {
          "base_uri": "https://localhost:8080/"
        },
        "id": "hoQBgbVASJPu",
        "outputId": "e18b1c52-f7b7-4ad3-ff2e-32413603d8ca"
      },
      "execution_count": null,
      "outputs": [
        {
          "output_type": "stream",
          "name": "stdout",
          "text": [
            "단어 입력 우리나라\n",
            "나-4-3-2"
          ]
        }
      ]
    },
    {
      "cell_type": "code",
      "source": [
        "if x == y:\n",
        "  print (\"회문입니다.\")\n",
        "else:\n",
        "  print (\"회문이 아닙니다.\")"
      ],
      "metadata": {
        "colab": {
          "base_uri": "https://localhost:8080/",
          "height": 201
        },
        "id": "eBocLJ0HLTHI",
        "outputId": "f2cd2b0e-86a5-4630-8357-9f6136e200ad"
      },
      "execution_count": null,
      "outputs": [
        {
          "output_type": "error",
          "ename": "NameError",
          "evalue": "name 'y' is not defined",
          "traceback": [
            "\u001b[0;31m---------------------------------------------------------------------------\u001b[0m",
            "\u001b[0;31mNameError\u001b[0m                                 Traceback (most recent call last)",
            "\u001b[0;32m<ipython-input-15-97e73628b08b>\u001b[0m in \u001b[0;36m<cell line: 1>\u001b[0;34m()\u001b[0m\n\u001b[0;32m----> 1\u001b[0;31m \u001b[0;32mif\u001b[0m \u001b[0mx\u001b[0m \u001b[0;34m==\u001b[0m \u001b[0my\u001b[0m\u001b[0;34m:\u001b[0m\u001b[0;34m\u001b[0m\u001b[0;34m\u001b[0m\u001b[0m\n\u001b[0m\u001b[1;32m      2\u001b[0m   \u001b[0mprint\u001b[0m \u001b[0;34m(\u001b[0m\u001b[0;34m\"회문입니다.\"\u001b[0m\u001b[0;34m)\u001b[0m\u001b[0;34m\u001b[0m\u001b[0;34m\u001b[0m\u001b[0m\n\u001b[1;32m      3\u001b[0m \u001b[0;32melse\u001b[0m\u001b[0;34m:\u001b[0m\u001b[0;34m\u001b[0m\u001b[0;34m\u001b[0m\u001b[0m\n\u001b[1;32m      4\u001b[0m   \u001b[0mprint\u001b[0m \u001b[0;34m(\u001b[0m\u001b[0;34m\"회문이 아닙니다.\"\u001b[0m\u001b[0;34m)\u001b[0m\u001b[0;34m\u001b[0m\u001b[0;34m\u001b[0m\u001b[0m\n",
            "\u001b[0;31mNameError\u001b[0m: name 'y' is not defined"
          ]
        }
      ]
    },
    {
      "cell_type": "code",
      "source": [],
      "metadata": {
        "id": "TCH3lcdXY-iJ"
      },
      "execution_count": null,
      "outputs": []
    },
    {
      "cell_type": "markdown",
      "source": [
        "------"
      ],
      "metadata": {
        "id": "nJmcpuYjZBmi"
      }
    }
  ]
}