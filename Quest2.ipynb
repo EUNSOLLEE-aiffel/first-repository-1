{
  "nbformat": 4,
  "nbformat_minor": 0,
  "metadata": {
    "colab": {
      "provenance": [],
      "include_colab_link": true
    },
    "kernelspec": {
      "name": "python3",
      "display_name": "Python 3"
    },
    "language_info": {
      "name": "python"
    }
  },
  "cells": [
    {
      "cell_type": "markdown",
      "metadata": {
        "id": "view-in-github",
        "colab_type": "text"
      },
      "source": [
        "<a href=\"https://colab.research.google.com/github/XIPT/first-repository/blob/master/Quest2.ipynb\" target=\"_parent\"><img src=\"https://colab.research.google.com/assets/colab-badge.svg\" alt=\"Open In Colab\"/></a>"
      ]
    },
    {
      "cell_type": "code",
      "execution_count": null,
      "metadata": {
        "id": "0eOY0xW0Yv1_",
        "colab": {
          "base_uri": "https://localhost:8080/"
        },
        "outputId": "f29b1287-4766-4ac2-a07e-2c9b6b7fc27f"
      },
      "outputs": [
        {
          "output_type": "stream",
          "name": "stdout",
          "text": [
            "Mounted at /content/drive\n"
          ]
        }
      ],
      "source": [
        "from google.colab import drive\n",
        "drive.mount('/content/drive')\n"
      ]
    },
    {
      "cell_type": "code",
      "source": [],
      "metadata": {
        "id": "UCHXT3GOjtuB"
      },
      "execution_count": null,
      "outputs": []
    },
    {
      "cell_type": "code",
      "source": [
        "#MyDrive에서 Avengers.txt를 불러오기\n",
        "file_path = '/content/drive/MyDrive/Avengers.txt'\n",
        "with open(file_path, 'r') as file:\n",
        "  contents = file.read()\n",
        "  print(contents)"
      ],
      "metadata": {
        "collapsed": true,
        "id": "uyd9zUWChk14"
      },
      "execution_count": null,
      "outputs": []
    },
    {
      "cell_type": "code",
      "source": [
        "#1.소문자로 변경\n",
        "contents_lower = contents.lower()\n"
      ],
      "metadata": {
        "id": "17TrtUJ9jYsL"
      },
      "execution_count": 65,
      "outputs": []
    },
    {
      "cell_type": "code",
      "source": [
        "#2. 특수문자를 제거 (문장중간의 부호가 사라지지 않아서 다른방법을 찾음)\n",
        "#import string\n",
        "#contents_lower_clearing = contents_lower.strip(string.punctuation)\n",
        "#print(string.punctuation)\n",
        "#print(contents_lower_clearing)\n",
        "\n",
        "#2. 특수문자와 줄바꿈 제거\n",
        "contents_lower_clearing = ''.join(x for x in contents_lower if x.isalnum() or x.isspace()) #특수문자제거\n",
        "contents_lower_clearing2 = contents_lower_clearing.replace(\".\",'') #.제거\n",
        "contents_lower_clearing3 = contents_lower_clearing2.replace('\\n',' ') #줄바꿈 제거"
      ],
      "metadata": {
        "id": "lU7_yCgfkxDF",
        "collapsed": true
      },
      "execution_count": 96,
      "outputs": []
    },
    {
      "cell_type": "code",
      "source": [
        "#단어 마다 리스트작업\n",
        "list1 = contents_lower_clearing3.split(' ')\n",
        "\n"
      ],
      "metadata": {
        "id": "E_QX6R2rlMDW",
        "collapsed": true
      },
      "execution_count": 105,
      "outputs": []
    },
    {
      "cell_type": "code",
      "source": [
        "#리스트를 세트로 바꿔서 중복을 제거 후 list1을 카운트\n",
        "list2 = list(set(list1))\n",
        "\n",
        "dict1 = {list2[i]:list1.count(list2[i]) for i in range(len(list2))}\n",
        "dict2 = (sorted(dict1.items(), key=lambda x: x[1], reverse=True))\n",
        "print(dict2)\n"
      ],
      "metadata": {
        "colab": {
          "base_uri": "https://localhost:8080/"
        },
        "id": "HUMjasI25gHm",
        "outputId": "cfa19b30-6cba-4627-b3ba-09769be0e0c2"
      },
      "execution_count": 161,
      "outputs": [
        {
          "output_type": "stream",
          "name": "stdout",
          "text": [
            "[('', 526), ('you', 367), ('the', 365), ('i', 249), ('to', 224), ('a', 224), ('of', 125), ('is', 124), ('that', 123), ('and', 117), ('we', 116), ('it', 111), ('this', 97), ('on', 96), ('in', 96), ('not', 87), ('me', 80), ('he', 78), ('what', 77), ('for', 72), ('its', 70), ('have', 64), ('be', 63), ('no', 60), ('know', 59), ('are', 57), ('do', 53), ('out', 53), ('im', 51), ('your', 49), ('was', 47), ('dont', 43), ('need', 42), ('my', 42), ('get', 41), ('but', 40), ('were', 40), ('up', 40), ('if', 39), ('all', 39), ('got', 39), ('here', 38), ('did', 38), ('they', 37), ('can', 37), ('like', 37), ('just', 36), ('about', 35), ('an', 35), ('youre', 35), ('loki', 34), ('well', 33), ('how', 33), ('his', 33), ('with', 33), ('stark', 33), ('think', 32), ('tesseract', 32), ('hes', 32), ('there', 32), ('will', 32), ('so', 32), ('now', 32), ('gonna', 31), ('him', 30), ('down', 29), ('us', 28), ('them', 28), ('come', 27), ('from', 27), ('didnt', 26), ('as', 26), ('thats', 26), ('right', 25), ('sir', 25), ('put', 24), ('why', 22), ('should', 21), ('one', 21), ('our', 20), ('cant', 20), ('world', 20), ('tell', 19), ('people', 19), ('has', 19), ('off', 19), ('back', 18), ('way', 18), ('where', 18), ('then', 18), ('when', 17), ('agent', 17), ('at', 17), ('man', 17), ('banner', 17), ('yeah', 16), ('cube', 16), ('ive', 16), ('everything', 16), ('power', 16), ('who', 16), ('does', 16), ('see', 15), ('would', 15), ('take', 15), ('mean', 15), ('go', 15), ('time', 15), ('doctor', 15), ('guy', 14), ('work', 14), ('war', 14), ('fury', 14), ('some', 14), ('want', 14), ('good', 14), ('only', 14), ('ill', 13), ('these', 13), ('barton', 13), ('something', 13), ('theres', 13), ('energy', 13), ('made', 13), ('youve', 13), ('wanna', 13), ('oh', 13), ('isnt', 13), ('find', 12), ('been', 12), ('call', 12), ('wants', 12), ('really', 12), ('could', 12), ('am', 12), ('little', 12), ('shield', 12), ('lokis', 12), ('guys', 12), ('other', 12), ('make', 12), ('gotta', 12), ('until', 11), ('or', 11), ('dr', 11), ('every', 11), ('too', 11), ('say', 11), ('more', 11), ('id', 11), ('anything', 11), ('close', 11), ('captain', 11), ('end', 11), ('into', 11), ('still', 10), ('sorry', 10), ('things', 10), ('engine', 10), ('thing', 10), ('by', 10), ('thought', 10), ('director', 10), ('doing', 10), ('even', 10), ('keep', 10), ('stay', 10), ('lets', 10), ('lot', 10), ('never', 10), ('give', 9), ('suit', 9), ('avengers', 9), ('let', 9), ('turn', 9), ('might', 9), ('over', 9), ('thor', 9), ('portal', 9), ('earth', 9), ('than', 9), ('yes', 9), ('please', 9), ('much', 9), ('look', 9), ('had', 9), ('control', 9), ('very', 8), ('army', 8), ('play', 8), ('before', 8), ('kind', 8), ('because', 8), ('long', 8), ('knows', 8), ('shut', 8), ('coming', 8), ('away', 8), ('asgard', 8), ('may', 8), ('big', 8), ('yourself', 8), ('hulk', 8), ('men', 8), ('any', 8), ('hold', 8), ('point', 8), ('around', 8), ('selvig', 8), ('okay', 8), ('romanoff', 8), ('though', 7), ('team', 7), ('yet', 7), ('ever', 7), ('try', 7), ('going', 7), ('sure', 7), ('whats', 7), ('seen', 7), ('love', 7), ('thank', 7), ('hit', 7), ('better', 7), ('lost', 7), ('maybe', 7), ('pretty', 7), ('stop', 7), ('after', 7), ('phase', 7), ('remember', 7), ('nothing', 7), ('planet', 7), ('together', 7), ('god', 7), ('doesnt', 6), ('worlds', 6), ('king', 6), ('secret', 6), ('brother', 6), ('far', 6), ('place', 6), ('force', 6), ('done', 6), ('coulson', 6), ('which', 6), ('needs', 6), ('fight', 6), ('means', 6), ('new', 6), ('working', 6), ('jarvis', 6), ('life', 6), ('alright', 6), ('leave', 6), ('hell', 6), ('enough', 6), ('percent', 6), ('next', 6), ('plan', 6), ('kill', 6), ('natasha', 6), ('once', 6), ('talk', 6), ('again', 6), ('first', 6), ('source', 6), ('phil', 6), ('wont', 6), ('space', 5), ('true', 5), ('ready', 5), ('whatever', 5), ('spy', 5), ('word', 5), ('won', 5), ('line', 5), ('gamma', 5), ('rest', 5), ('wipe', 5), ('alone', 5), ('those', 5), ('save', 5), ('miss', 5), ('whos', 5), ('run', 5), ('trying', 5), ('copy', 5), ('hard', 5), ('open', 5), ('two', 5), ('eyes', 5), ('last', 5), ('2', 5), ('wheres', 5), ('use', 5), ('blow', 5), ('name', 5), ('always', 5), ('none', 5), ('red', 5), ('takes', 5), ('their', 5), ('pull', 5), ('many', 5), ('built', 4), ('called', 4), ('set', 4), ('drop', 4), ('arent', 4), ('lose', 4), ('become', 4), ('she', 4), ('break', 4), ('gone', 4), ('york', 4), ('while', 4), ('father', 4), ('theyre', 4), ('feel', 4), ('scepter', 4), ('else', 4), ('took', 4), ('heroes', 4), ('itself', 4), ('perimeter', 4), ('armor', 4), ('actually', 4), ('left', 4), ('wait', 4), ('chitauri', 4), ('under', 4), ('wrong', 4), ('soldier', 4), ('peace', 4), ('idea', 4), ('kneel', 4), ('another', 4), ('weve', 4), ('seems', 4), ('show', 4), ('building', 4), ('thanks', 4), ('says', 4), ('self', 4), ('clear', 4), ('start', 4), ('everyone', 4), ('understand', 4), ('listen', 4), ('pain', 4), ('came', 4), ('seeing', 4), ('free', 4), ('humans', 4), ('tower', 4), ('against', 4), ('three', 4), ('level', 4), ('without', 4), ('twelve', 4), ('streets', 4), ('move', 4), ('bring', 4), ('monster', 4), ('fall', 4), ('light', 4), ('used', 4), ('through', 4), ('exactly', 4), ('already', 4), ('radiation', 4), ('location', 4), ('mr', 4), ('huge', 4), ('son', 4), ('job', 4), ('lead', 4), ('target', 4), ('ice', 3), ('heart', 3), ('tried', 3), ('taking', 3), ('speak', 3), ('afraid', 3), ('soon', 3), ('believing', 3), ('party', 3), ('hostile', 3), ('focused', 3), ('works', 3), ('drink', 3), ('initiative', 3), ('decision', 3), ('freedom', 3), ('rogers', 3), ('running', 3), ('council', 3), ('city', 3), ('distance', 3), ('care', 3), ('her', 3), ('nice', 3), ('mind', 3), ('asking', 3), ('cause', 3), ('truth', 3), ('hero', 3), ('started', 3), ('late', 3), ('roof', 3), ('year', 3), ('moment', 3), ('step', 3), ('levels', 3), ('push', 3), ('test', 3), ('minutes', 3), ('wasnt', 3), ('great', 3), ('youll', 3), ('threat', 3), ('person', 3), ('old', 3), ('water', 3), ('human', 3), ('send', 3), ('funny', 3), ('hill', 3), ('whole', 3), ('changed', 3), ('lab', 3), ('bad', 3), ('question', 3), ('eye', 3), ('rule', 3), ('course', 3), ('super', 3), ('weapons', 3), ('wake', 3), ('hundred', 3), ('moved', 3), ('security', 3), ('clean', 3), ('fun', 3), ('fashioned', 3), ('someone', 3), ('being', 3), ('tony', 3), ('couple', 3), ('weapon', 3), ('stuff', 3), ('wouldnt', 3), ('change', 3), ('anybody', 3), ('meet', 3), ('minute', 3), ('match', 3), ('hope', 3), ('worse', 3), ('erik', 3), ('stress', 3), ('living', 3), ('few', 3), ('low', 3), ('attack', 3), ('potts', 3), ('ledger', 3), ('intelligence', 3), ('youd', 3), ('makes', 3), ('same', 3), ('tomorrow', 3), ('threaten', 3), ('told', 3), ('shawarma', 3), ('sentiment', 3), ('beyond', 3), ('hear', 3), ('prepared', 3), ('glorious', 3), ('kept', 3), ('iridium', 3), ('cluster', 3), ('lever', 3), ('having', 3), ('room', 3), ('hands', 3), ('couldnt', 3), ('stand', 3), ('believe', 3), ('ten', 3), ('looking', 3), ('face', 3), ('rotors', 3), ('supposed', 3), ('hammer', 3), ('read', 3), ('needed', 3), ('form', 3), ('ask', 3), ('desperate', 3), ('heavy', 3), ('sent', 3), ('slow', 3), ('full', 3), ('dead', 2), ('crawl', 2), ('potential', 2), ('wondering', 2), ('sleep', 2), ('bargain', 2), ('bruce', 2), ('ranugal', 2), ('personal', 2), ('thirty', 2), ('uniform', 2), ('relays', 2), ('moving', 2), ('locked', 2), ('key', 2), ('gentlemen', 2), ('subtle', 2), ('trap', 2), ('authorized', 2), ('bit', 2), ('ocean', 2), ('shes', 2), ('base', 2), ('budapest', 2), ('date', 2), ('deal', 2), ('glad', 2), ('green', 2), ('years', 2), ('turns', 2), ('brain', 2), ('baby', 2), ('inside', 2), ('lifes', 2), ('case', 2), ('door', 2), ('fella', 2), ('jump', 2), ('grow', 2), ('humanity', 2), ('handed', 2), ('air', 2), ('intact', 2), ('playing', 2), ('promise', 2), ('credit', 2), ('hour', 2), ('civilian', 2), ('secrets', 2), ('knowledge', 2), ('nobody', 2), ('touch', 2), ('piece', 2), ('gammer', 2), ('mankind', 2), ('english', 2), ('towers', 2), ('focusing', 2), ('lying', 2), ('sustaining', 2), ('uh', 2), ('wind', 2), ('lightning', 2), ('night', 2), ('hand', 2), ('deck', 2), ('vintage', 2), ('engines', 2), ('problem', 2), ('sound', 2), ('alien', 2), ('reactor', 2), ('shell', 2), ('unless', 2), ('seven', 2), ('buildings', 2), ('sweeping', 2), ('fire', 2), ('saying', 2), ('enjoy', 2), ('tracking', 2), ('smart', 2), ('follow', 2), ('build', 2), ('alive', 2), ('wanted', 2), ('accident', 2), ('councilman', 2), ('private', 2), ('america', 2), ('handle', 2), ('damn', 2), ('heard', 2), ('found', 2), ('killed', 2), ('today', 2), ('dealing', 2), ('nick', 2), ('signature', 2), ('must', 2), ('germany', 2), ('group', 2), ('stuttgart', 2), ('sort', 2), ('roger', 2), ('safety', 2), ('hasnt', 2), ('part', 2), ('angry', 2), ('yours', 2), ('bridge', 2), ('blocks', 2), ('feet', 2), ('honor', 2), ('stalling', 2), ('cards', 2), ('fighting', 2), ('track', 2), ('quarrel', 2), ('avoiding', 2), ('issues', 2), ('swing', 2), ('saw', 2), ('headed', 2), ('spectrometers', 2), ('met', 2), ('legend', 2), ('homework', 2), ('list', 2), ('purpose', 2), ('style', 2), ('engaged', 2), ('nat', 2), ('stops', 2), ('detonation', 2), ('wire', 2), ('breach', 2), ('compromised', 2), ('responsible', 2), ('planning', 2), ('apart', 2), ('bag', 2), ('elevator', 2), ('bilchsteim', 2), ('boss', 2), ('safe', 2), ('saved', 2), ('mass', 2), ('laboratory', 2), ('missed', 2), ('happens', 2), ('beast', 2), ('communications', 2), ('gets', 2), ('ah', 2), ('general', 2), ('happening', 2), ('orders', 2), ('gave', 2), ('theyll', 2), ('harmful', 2), ('suddenly', 2), ('friend', 2), ('recalibration', 2), ('tear', 2), ('sky', 2), ('ant', 2), ('throne', 2), ('boot', 2), ('front', 2), ('matter', 2), ('top', 2), ('selvigs', 2), ('asgardian', 2), ('notice', 2), ('powered', 2), ('along', 2), ('package', 2), ('either', 2), ('half', 2), ('different', 2), ('business', 2), ('chaos', 2), ('happened', 2), ('cage', 2), ('tesseracts', 2), ('barrier', 2), ('system', 2), ('shall', 2), ('reflection', 2), ('boy', 2), ('paid', 2), ('hiding', 2), ('clint', 2), ('straight', 2), ('finished', 2), ('certain', 2), ('known', 2), ('destruction', 2), ('suppose', 2), ('learned', 2), ('fell', 2), ('scramble', 2), ('prototype', 2), ('fear', 2), ('four', 2), ('access', 2), ('trouble', 2), ('help', 2), ('brought', 2), ('win', 2), ('sign', 2), ('heat', 2), ('easy', 2), ('wield', 2), ('cap', 2), ('monkeys', 2), ('trading', 2), ('restless', 2), ('pretend', 2), ('controlled', 2), ('metal', 2), ('attention', 2), ('easily', 2), ('lie', 2), ('higher', 2), ('said', 2), ('goes', 2), ('leaving', 2), ('hurt', 2), ('unlimited', 2), ('speed', 2), ('b', 2), ('guess', 2), ('environment', 2), ('head', 2), ('billionaire', 2), ('rage', 2), ('genius', 2), ('jacket', 2), ('number', 2), ('stick', 2), ('belongs', 2), ('evac', 2), ('raw', 2), ('real', 2), ('furys', 2), ('clock', 2), ('effect', 2), ('hours', 2), ('above', 2), ('cut', 2), ('threatening', 2), ('cell', 2), ('lay', 2), ('tchalakov', 2), ('transport', 2), ('ride', 2), ('anyone', 2), ('six', 2), ('guns', 2), ('model', 2), ('response', 2), ('celebrating', 2), ('figured', 2), ('doors', 2), ('universe', 2), ('park', 2), ('nuclear', 2), ('sleeping', 2), ('order', 2), ('turbine', 2), ('shouldnt', 2), ('tonight', 2), ('jet', 2), ('soldiers', 2), ('battle', 2), ('enemies', 2), ('losing', 2), ('separate', 2), ('home', 2), ('giving', 2), ('panels', 2), ('awake', 2), ('dark', 2), ('outer', 2), ('shields', 2), ('act', 2), ('possible', 2), ('protect', 2), ('hey', 2), ('xoxoxo', 1), ('christmas', 1), ('expanded', 1), ('heading', 1), ('wild', 1), ('proud', 1), ('sentimentality', 1), ('yesterday', 1), ('fifteen', 1), ('catastrophe', 1), ('mission', 1), ('lease', 1), ('advanced', 1), ('28', 1), ('daughter', 1), ('conducting', 1), ('wallop', 1), ('calm', 1), ('answering', 1), ('privilege', 1), ('prayer', 1), ('cognitive', 1), ('awareness', 1), ('lower', 1), ('helping', 1), ('children', 1), ('officially', 1), ('east', 1), ('levelled', 1), ('enormous', 1), ('observatory', 1), ('qualify', 1), ('acquired', 1), ('volatile', 1), ('manhattan', 1), ('population', 1), ('tank', 1), ('bat', 1), ('shrapnel', 1), ('nor', 1), ('seconds', 1), ('cellist', 1), ('floor', 1), ('process', 1), ('deep', 1), ('such', 1), ('7alfa11', 1), ('avail', 1), ('gods', 1), ('drew', 1), ('version', 1), ('grid', 1), ('management', 1), ('fortress', 1), ('assed', 1), ('grenade', 1), ('39th', 1), ('precious', 1), ('cooling', 1), ('filling', 1), ('position', 1), ('scratch', 1), ('collisions', 1), ('jazz', 1), ('expert', 1), ('banne', 1), ('overwrite', 1), ('blueberry', 1), ('spell', 1), ('born', 1), ('drive', 1), ('listening', 1), ('unit', 1), ('carrying', 1), ('neck', 1), ('holding', 1), ('near', 1), ('single', 1), ('suite', 1), ('containment', 1), ('strays', 1), ('load', 1), ('ourselves', 1), ('file', 1), ('navigation', 1), ('outdated', 1), ('sleepy', 1), ('scare', 1), ('apparently', 1), ('seemed', 1), ('regular', 1), ('marching', 1), ('reports', 1), ('barren', 1), ('sharpest', 1), ('terrestrial', 1), ('equipment', 1), ('container', 1), ('bury', 1), ('hospital', 1), ('surrounding', 1), ('north', 1), ('forces', 1), ('kelvin', 1), ('surge', 1), ('slowly', 1), ('pressurized', 1), ('others', 1), ('clearly', 1), ('fought', 1), ('live', 1), ('remind', 1), ('succeed', 1), ('detention', 1), ('confirmed', 1), ('submarine', 1), ('repeat', 1), ('ears', 1), ('nude', 1), ('block', 1), ('dread', 1), ('finding', 1), ('friends', 1), ('finally', 1), ('reactors', 1), ('faster', 1), ('protocol1', 1), ('greed', 1), ('consistent', 1), ('handsome', 1), ('sometimetop', 1), ('betrayed', 1), ('standing', 1), ('telephone', 1), ('antlers', 1), ('socket', 1), ('theory', 1), ('ajust', 1), ('fortyminute', 1), ('ruling', 1), ('basement', 1), ('ought', 1), ('option', 1), ('surprises', 1), ('excellent', 1), ('timebomb', 1), ('beneath', 1), ('hawk', 1), ('basest', 1), ('uhhow', 1), ('eyeball', 1), ('fortune', 1), ('ideally', 1), ('upon', 1), ('direct', 1), ('mo', 1), ('recently', 1), ('occupied', 1), ('conquer', 1), ('hide', 1), ('awearing', 1), ('spangly', 1), ('input', 1), ('moreme', 1), ('sixty', 1), ('usual', 1), ('greatest', 1), ('bshield', 1), ('stars', 1), ('longer', 1), ('taken', 1), ('chemical', 1), ('pure', 1), ('joint', 1), ('designed', 1), ('flowers', 1), ('afield', 1), ('staysoon', 1), ('doc', 1), ('mine', 1), ('urgent', 1), ('definitely', 1), ('hilariously', 1), ('authorize', 1), ('weep', 1), ('count', 1), ('spontaneous', 1), ('facing', 1), ('theother', 1), ('snafu', 1), ('overwritten', 1), ('creature', 1), ('exposure', 1), ('harness', 1), ('suiting', 1), ('patterns', 1), ('talks', 1), ('below', 1), ('project', 1), ('heads', 1), ('terrible', 1), ('nightmare', 1), ('battles', 1), ('showed', 1), ('posted', 1), ('debris', 1), ('noise', 1), ('command', 1), ('devastation', 1), ('lermentovia', 1), ('rays', 1), ('truck', 1), ('petty', 1), ('information', 1), ('historically', 1), ('iron', 1), ('reverse', 1), ('master', 1), ('names', 1), ('online', 1), ('tampering', 1), ('workmen', 1), ('pharaohs', 1), ('escort', 1), ('neutral', 1), ('married', 1), ('ash', 1), ('lack', 1), ('dynamite', 1), ('sec', 1), ('places', 1), ('oven', 1), ('matched', 1), ('lines', 1), ('squadron', 1), ('wow', 1), ('conviction', 1), ('intimately', 1), ('ringwere', 1), ('theyd', 1), ('slowing', 1), ('quin', 1), ('prove', 1), ('overly', 1), ('tourist', 1), ('absence', 1), ('race', 1), ('tunnelling', 1), ('bringing', 1), ('held', 1), ('tidings', 1), ('factoryb', 1), ('fate', 1), ('subway', 1), ('scent', 1), ('superhero', 1), ('packed', 1), ('courted', 1), ('readings', 1), ('fit', 1), ('dc', 1), ('interested', 1), ('priority', 1), ('gunned', 1), ('ordered', 1), ('waiting', 1), ('needing', 1), ('pretending', 1), ('vehicles', 1), ('evacuation', 1), ('lengthy', 1), ('able', 1), ('trace', 1), ('clench', 1), ('located', 1), ('report', 1), ('mistakes', 1), ('starkwe', 1), ('ugly', 1), ('candy', 1), ('appeal', 1), ('submerged', 1), ('ship', 1), ('visitor', 1), ('pointy', 1), ('jarvs', 1), ('10cb', 1), ('forced', 1), ('repulsive', 1), ('burdened', 1), ('accessible', 1), ('exports', 1), ('example', 1), ('tiny', 1), ('research', 1), ('distraction', 1), ('180', 1), ('floating', 1), ('five', 1), ('engage', 1), ('condition', 1), ('tension', 1), ('bugging', 1), ('allies', 1), ('brief', 1), ('earned', 1), ('smash', 1), ('heroic', 1), ('scaly', 1), ('enemy', 1), ('grows', 1), ('nature', 1), ('diva', 1), ('beat', 1), ('contacts', 1), ('omits', 1), ('personality', 1), ('philanthropist', 1), ('jonah', 1), ('familiar', 1), ('older', 1), ('strand', 1), ('achieve', 1), ('campaign', 1), ('lure', 1), ('quantum', 1), ('currently', 1), ('mightiest', 1), ('receive', 1), ('mourn', 1), ('mad', 1), ('ha', 1), ('notion', 1), ('arsenal', 1), ('plastered', 1), ('crazy', 1), ('fears', 1), ('36', 1), ('phils', 1), ('lifting', 1), ('marvelous', 1), ('dream', 1), ('astrophysics', 1), ('type', 1), ('lobby', 1), ('boost', 1), ('percentages', 1), ('reminded', 1), ('signal', 1), ('monsters', 1), ('7', 1), ('emergency', 1), ('asked', 1), ('relationship', 1), ('sneak', 1), ('exhausting', 1), ('deterrent', 1), ('violence', 1), ('criminal', 1), ('bucks', 1), ('child', 1), ('drakoffs', 1), ('million', 1), ('dragged', 1), ('piss', 1), ('craves', 1), ('impossible', 1), ('howard', 1), ('myself', 1), ('rescue', 1), ('role', 1), ('reengage', 1), ('r', 1), ('unmade', 1), ('pilates', 1), ('spiking', 1), ('code', 1), ('weight', 1), ('barter', 1), ('blue', 1), ('javani', 1), ('disease', 1), ('hopelessly', 1), ('write', 1), ('mouth', 1), ('town', 1), ('playboy', 1), ('press', 1), ('remarkable', 1), ('freaks', 1), ('foster', 1), ('doth', 1), ('40', 1), ('transition', 1), ('telling', 1), ('theyve', 1), ('island', 1), ('chips', 1), ('itll', 1), ('carefully', 1), ('weed', 1), ('wandered', 1), ('reindeer', 1), ('penetrate', 1), ('shown', 1), ('closer', 1), ('handwe', 1), ('excuse', 1), ('justice', 1), ('6', 1), ('assume', 1), ('later', 1), ('official', 1), ('letting', 1), ('ways', 1), ('bottleneck', 1), ('noticed', 1), ('114', 1), ('comes', 1), ('destiny', 1), ('extraction', 1), ('claim', 1), ('weareth', 1), ('broke', 1), ('burn', 1), ('elder', 1), ('horrible', 1), ('greatness', 1), ('body', 1), ('ends', 1), ('interference', 1), ('madness', 1), ('black', 1), ('woman', 1), ('allfather', 1), ('harnessing', 1), ('unlocking', 1), ('thousand', 1), ('paulo', 1), ('drapes', 1), ('stranger', 1), ('stephen', 1), ('frees', 1), ('staying', 1), ('particular', 1), ('immortal', 1), ('romanoffi', 1), ('stripes', 1), ('also', 1), ('component', 1), ('loves', 1), ('breath', 1), ('portland', 1), ('middle', 1), ('unbalanced', 1), ('damned', 1), ('land', 1), ('formula', 1), ('capsicle', 1), ('mostly', 1), ('decoy', 1), ('beacon', 1), ('abyss', 1), ('killers', 1), ('mam', 1), ('cast', 1), ('audience', 1), ('state', 1), ('simpler', 1), ('swear', 1), ('reached', 1), ('fantastic', 1), ('tossing', 1), ('spear', 1), ('plug', 1), ('ground', 1), ('collapse', 1), ('fault', 1), ('weeks', 1), ('meant', 1), ('stronger', 1), ('pigeons', 1), ('reroute', 1), ('trusts', 1), ('retro', 1), ('precedence', 1), ('skies', 1), ('twitchy', 1), ('picked', 1), ('nuts', 1), ('crave', 1), ('youth', 1), ('poisonous', 1), ('news', 1), ('childish', 1), ('camera', 1), ('phone', 1), ('breaking', 1), ('astrophysicist', 1), ('days', 1), ('ou', 1), ('survivors', 1), ('confident', 1), ('narrow', 1), ('reaches', 1), ('directly', 1), ('gotten', 1), ('altitude', 1), ('fusion', 1), ('original', 1), ('billboards', 1), ('avoid', 1), ('high', 1), ('russian', 1), ('formidable', 1), ('previews', 1), ('calibrate', 1), ('square', 1), ('quite', 1), ('behalf', 1), ('slight', 1), ('ii', 1), ('fine', 1), ('statement', 1), ('briefcase', 1), ('dull', 1), ('consultation', 1), ('impressive', 1), ('ours', 1), ('less', 1), ('wars', 1), ('reference', 1), ('scattered', 1), ('defend', 1), ('extremely', 1), ('vengeance', 1), ('national', 1), ('wider', 1), ('chance', 1), ('watched', 1), ('bright', 1), ('settle', 1), ('campus', 1), ('bullied', 1), ('steam', 1), ('capacity', 1), ('steve', 1), ('trample', 1), ('intends', 1), ('covert', 1), ('algorithm', 1), ('bout', 1), ('itits', 1), ('nasa', 1), ('mint', 1), ('active', 1), ('considering', 1), ('sweet', 1), ('spare', 1), ('slower', 1), ('bsecure', 1), ('learn', 1), ('airport', 1), ('mess', 1), ('nuke', 1), ('sounds', 1), ('network', 1), ('caught', 1), ('materials', 1), ('nest', 1), ('kick', 1), ('legends', 1), ('recognize', 1), ('tooth', 1), ('offense', 1), ('slights', 1), ('buck', 1), ('related', 1), ('genuine', 1), ('both', 1), ('drums', 1), ('mechanics', 1), ('subtitle', 1), ('awful', 1), ('return', 1), ('doorway', 1), ('wide', 1), ('walk', 1), ('complicated', 1), ('edges', 1), ('boat', 1), ('battling', 1), ('calcutta', 1), ('kidding', 1), ('obsessed', 1), ('second', 1), ('pissed', 1), ('unconscious', 1), ('reach', 1), ('joke', 1), ('ended', 1), ('followed', 1), ('storage', 1), ('avenge', 1), ('helped', 1), ('abundance', 1), ('each', 1), ('aim', 1), ('ally', 1), ('cooperation', 1), ('acellist', 1), ('steel', 1), ('looks', 1), ('played', 1), ('ims', 1), ('testing', 1), ('day', 1), ('strange', 1), ('dirty', 1), ('trust', 1), ('destroy', 1), ('sometimes', 1), ('unbreachable', 1), ('gear', 1), ('crime', 1), ('performance', 1), ('laptops', 1), ('ion', 1), ('assassins', 1), ('trapped', 1), ('post', 1), ('field', 1), ('bsmashb', 1), ('ignore', 1), ('agents', 1), ('specific', 1), ('reading', 1), ('uhassume', 1), ('rounds', 1), ('failure', 1), ('swoon', 1), ('guard', 1), ('hydras', 1), ('wirelessly', 1), ('awakened', 1), ('surprise', 1), ('bang', 1), ('fill', 1), ('gathered', 1), ('literally', 1), ('complete', 1), ('bird', 1), ('d', 1), ('coulsons', 1), ('mellow', 1), ('bypass', 1), ('parties', 1), ('mag', 1), ('yoga', 1), ('surely', 1), ('doll', 1), ('third', 1), ('split', 1), ('ambition', 1), ('shaken', 1), ('subjugation', 1), ('brings', 1), ('worked', 1), ('eight', 1), ('equation', 1), ('ass', 1), ('shredded', 1), ('plans', 1), ('gettin', 1), ('erskines', 1), ('reason', 1), ('droves', 1), ('battleground', 1), ('declared', 1), ('horrors', 1), ('missile', 1), ('gaming', 1), ('attentionwait', 1), ('n', 1), ('bastards', 1), ('bongo', 1), ('disadvantage', 1), ('appear', 1), ('spinning', 1), ('subs', 1), ('design', 1), ('disagreeing', 1), ('young', 1), ('hai', 1), ('programme', 1), ('crevasse', 1), ('shadows', 1), ('jab', 1), ('brush', 1), ('tend', 1), ('pepper', 1), ('strasse', 1), ('funky', 1), ('stabilize', 1), ('advancement', 1), ('critical', 1), ('kissed', 1), ('locating', 1), ('depend', 1), ('confused', 1), ('rightful', 1), ('hydra', 1), ('lifted', 1), ('twenty', 1), ('cleared', 1), ('weak', 1), ('magic', 1), ('replicate', 1), ('upstairs', 1), ('computer', 1), ('turned', 1), ('basically', 1), ('dress', 1), ('kilometer', 1), ('showing', 1), ('mindless', 1), ('lives', 1), ('actively', 1), ('specially', 1), ('calculations', 1), ('between', 1), ('models', 1), ('idiot', 1), ('firefight', 1), ('tiptoeing', 1), ('service', 1), ('parades', 1), ('dripping', 1), ('sit', 1), ('shortage', 1), ('powers', 1), ('handful', 1), ('monument', 1), ('footage', 1), ('secure', 1), ('derived', 1), ('realm', 1), ('silenskin', 1), ('sustainable', 1), ('diminishes', 1), ('contain', 1), ('actress', 1), ('loose', 1), ('zoning', 1), ('insisting', 1), ('homer', 1), ('tortures', 1), ('tesseractthis', 1), ('outside', 1), ('muster', 1), ('uhyep', 1), ('incident', 1), ('prise', 1), ('adopted', 1), ('debt', 1), ('imagined', 1), ('circle', 1), ('stopping', 1), ('streak', 1), ('acme', 1), ('throw', 1), ('cross', 1), ('vow', 1), ('conjure', 1), ('radar', 1), ('argue', 1), ('friendly', 1), ('itsits', 1), ('exile', 1), ('shesmisbehaving', 1), ('sao', 1), ('rabbited', 1), ('39', 1), ('buzz', 1), ('somewhere', 1), ('owe', 1), ('ruled', 1), ('thursday', 1), ('shrunk', 1), ('antiprotons', 1), ('opening', 1), ('unspoken', 1), ('calling', 1), ('saving', 1), ('collect', 1), ('trained', 1), ('scrapped', 1), ('unparalleled', 1), ('size', 1), ('rock', 1), ('joy', 1), ('scared', 1), ('papers', 1), ('court', 1), ('hoping', 1), ('cats', 1), ('dislodging', 1), ('meteorites', 1), ('shade', 1), ('lid', 1), ('futile', 1), ('soft', 1), ('kit', 1), ('wiped', 1), ('kills', 1), ('plane', 1), ('misbehaving', 1), ('uhshakespeare', 1), ('urgently', 1), ('killing', 1), ('mark', 1), ('trick', 1), ('prisoner', 1), ('stabilizing', 1), ('maam', 1), ('packs', 1), ('worth', 1), ('accelerator', 1), ('beautiful', 1), ('energythe', 1), ('bunk', 1), ('missing', 1), ('present', 1), ('density', 1), ('screams', 1), ('70', 1), ('experiment', 1), ('fife', 1), ('outfit', 1), ('peak', 1), ('sweaty', 1), ('havent', 1), ('leading', 1), ('protocols', 1), ('guardian', 1), ('grown', 1), ('cooperate', 1), ('destroyer', 1), ('steadyi', 1), ('antielectron', 1), ('capy', 1), ('glass', 1), ('uhhis', 1), ('freak', 1), ('radius', 1), ('vanish', 1), ('variables', 1), ('busy', 1), ('decryption', 1), ('creatures', 1), ('deployment', 1), ('smells', 1), ('fuss', 1), ('stupid', 1), ('files', 1), ('hawking', 1), ('slept', 1), ('mainframe', 1), ('parentage', 1), ('renting', 1), ('magical', 1), ('lermentoville', 1), ('werewere', 1), ('earths', 1), ('toys', 1), ('everybody', 1), ('balm', 1), ('wasi', 1), ('manipulating', 1), ('biggest', 1), ('defeated', 1), ('nicely', 1), ('throwing', 1), ('recognition', 1), ('starting', 1), ('managed', 1), ('mom', 1), ('mile', 1), ('fan', 1), ('price', 1), ('following', 1), ('repair', 1), ('draw', 1), ('pay', 1), ('focus', 1), ('given', 1), ('odins', 1), ('yep', 1), ('mileage', 1), ('impenetrable', 1), ('organization', 1), ('public', 1), ('mood', 1), ('patch', 1), ('dangerous', 1), ('flush', 1), ('operatingsheild', 1), ('aboard', 1), ('goti', 1), ('unleash', 1), ('ets', 1), ('whereabouts', 1), ('legoolas', 1), ('ages', 1), ('fulltail', 1), ('fly', 1), ('hawkeye', 1), ('join', 1), ('profiles', 1), ('raised', 1), ('small', 1), ('extraordinary', 1), ('feelings', 1), ('finishes', 1), ('path', 1), ('clockin', 1), ('spry', 1), ('foxing', 1), ('escape', 1), ('doubt', 1), ('traunsee', 1), ('seventy', 1), ('invite', 1), ('differently', 1), ('packet', 1), ('uhactually', 1), ('concoct', 1), ('device', 1), ('teeming', 1), ('gives', 1), ('recompense', 1), ('famous', 1), ('cameras', 1), ('mixture', 1), ('steal', 1), ('swallow', 1), ('detail', 1), ('eyelashes', 1), ('9', 1), ('league', 1), ('regimes', 1), ('ceiling', 1), ('teraflops', 1), ('gallaga', 1), ('exposed', 1), ('liars', 1), ('extra', 1), ('interrogation', 1), ('suspect', 1), ('mountain', 1), ('fished', 1), ('bifrost', 1), ('canning', 1), ('blood', 1), ('ones', 1), ('floors', 1), ('sacrifice', 1), ('electricity', 1), ('uhweve', 1), ('minimum', 1), ('sorely', 1), ('south', 1), ('smell', 1), ('traction', 1), ('edge', 1), ('unclear', 1), ('material', 1), ('global', 1), ('spin', 1), ('fail', 1), ('spot', 1), ('rough', 1), ('modifications', 1), ('medical', 1), ('forms', 1), ('nine', 1), ('bottle', 1), ('bullet', 1), ('panel', 1), ('removing', 1), ('identity', 1), ('disconnected', 1), ('strike', 1), ('special', 1), ('overload', 1), ('thermonuclear', 1), ('calms', 1), ('lift', 1), ('calisthenics', 1), ('puny', 1), ('risk', 1), ('serum', 1), ('littleold', 1), ('moon', 1), ('eighty', 1), ('major', 1), ('consult', 1), ('moron', 1), ('connected', 1), ('muss', 1), ('died', 1), ('own', 1), ('incoming', 1), ('bartons', 1), ('serious', 1), ('based', 1), ('ancient', 1), ('widow', 1), ('buddy', 1), ('drag', 1), ('debriefing', 1), ('escorts', 1), ('tray', 1), ('pleasure', 1), ('removed', 1), ('f22', 1), ('jane', 1), ('coulomb', 1), ('gushing', 1), ('grudge', 1), ('term', 1), ('rate', 1), ('surrounded', 1), ('everyday', 1), ('demigod', 1), ('skip', 1), ('climbing', 1), ('street', 1), ('ago', 1), ('speaks', 1), ('ooh', 1), ('best', 1), ('riskier', 1), ('fond', 1), ('since', 1), ('behind', 1), ('anger', 1), ('disengage', 1), ('kids', 1), ('waited', 1), ('share', 1), ('tells', 1), ('sun', 1), ('within', 1), ('box', 1), ('hi', 1), ('isolated', 1), ('using', 1), ('protection', 1), ('notes', 1), ('board', 1), ('anymore', 1), ('mewling', 1), ('soul', 1), ('probably', 1), ('medium', 1), ('harlem', 1), ('flying', 1), ('schemes', 1), ('apartment', 1), ('remote', 1), ('realms', 1), ('went', 1), ('collapsing', 1), ('neither', 1), ('tech', 1), ('skillset', 1), ('natural', 1), ('proceed', 1), ('slaughter', 1), ('fee', 1), ('spit', 1), ('consulting', 1), ('arrow', 1), ('13', 1), ('situation', 1), ('falls', 1), ('balance', 1), ('trade', 1), ('lucky', 1), ('unfinished', 1), ('pathetic', 1), ('burns', 1), ('nerve', 1), ('comment', 1), ('skull', 1), ('drivethrough', 1), ('accept', 1), ('motion', 1), ('least', 1), ('understood', 1), ('fellow', 1), ('phones', 1), ('virtuous', 1), ('absolutely', 1), ('follows', 1), ('anytime', 1), ('magazine', 1), ('evolved', 1), ('jets', 1), ('past', 1), ('breathtaking', 1), ('meagre', 1), ('grrr', 1), ('mother', 1), ('finish', 1), ('o', 1), ('dad', 1), ('polarity', 1), ('satellite', 1), ('messier', 1), ('involved', 1), ('message', 1), ('sides', 1), ('argument', 1), ('controls', 1), ('odin', 1), ('wade', 1), ('trip', 1), ('strut', 1), ('sustainig', 1), ('elected', 1), ('persuade', 1)]\n"
          ]
        }
      ]
    },
    {
      "cell_type": "code",
      "source": [],
      "metadata": {
        "id": "8MgEX0P_-d_o"
      },
      "execution_count": null,
      "outputs": []
    },
    {
      "cell_type": "code",
      "source": [
        "strings = list(input(\"문자입력\").split(' '))\n"
      ],
      "metadata": {
        "id": "VbLysui1-fFV"
      },
      "execution_count": null,
      "outputs": []
    },
    {
      "cell_type": "code",
      "source": [],
      "metadata": {
        "id": "ySGyk6z_-s75"
      },
      "execution_count": null,
      "outputs": []
    },
    {
      "cell_type": "code",
      "source": [],
      "metadata": {
        "id": "9IAU0BA1RD_o"
      },
      "execution_count": null,
      "outputs": []
    }
  ]
}