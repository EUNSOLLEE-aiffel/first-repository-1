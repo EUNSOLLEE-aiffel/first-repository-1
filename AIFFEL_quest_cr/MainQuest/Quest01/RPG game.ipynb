{
 "cells": [
  {
   "cell_type": "code",
   "execution_count": 64,
   "id": "fc2906f5",
   "metadata": {},
   "outputs": [],
   "source": [
    "import random as rd\n",
    "\n",
    "class Character:\n",
    "    def __init__(self,name,level,HP,attack,defence):\n",
    "        self.name = name\n",
    "        self.level = level\n",
    "        self.HP = HP\n",
    "        self.attack = attack\n",
    "        self.defence = defence\n",
    "        \n",
    "    def describe(self):\n",
    "        return f\"{self.name}의 level:{self.level},HP:{self.HP},공격력:{self.attack},방어력:{self.defence}입니다.\"\n",
    "        \n",
    "    def is_alive(self):\n",
    "        if self.HP<=0:\n",
    "            False\n",
    "        else:\n",
    "            True\n",
    "    \n",
    "    def take_damage(self):\n",
    "        self.HP = damage-self.defence  #여기부분이 이해가 안갑니다 배틀함수에 써야될꺼 같은데 제대로 만든지도 모르겠음\n",
    "        \n",
    "    def attack_target(self):\n",
    "        damage = rd.randint(1,self.attack) #요부분도\n",
    "\n",
    "#캐릭터에서 상속받아서 플레이어 생성\n",
    "class Player(Character):\n",
    "    def __init__(self,name):\n",
    "        #super().__init__(name,level,HP,attact,defence)\n",
    "        self.name = name\n",
    "        self.level = 1\n",
    "        self.HP = 100\n",
    "        self.attack = 25\n",
    "        self.defence = 5\n",
    "        self.EXP = 0\n",
    "    \n",
    "    def gain_experience(self):\n",
    "        try :\n",
    "            gain_EXP = int(input(\"얼만큼의 경험치를 얻었습니까?\"))\n",
    "            self.EXP += gain_EXP\n",
    "        except : \n",
    "            print('정수를 입력해주세요')\n",
    "            return gain_experience\n",
    "        else :\n",
    "            return f\"현재 경험치는 {self.EXP}입니다.\"\n",
    "\n",
    "    #Level up 메서드    \n",
    "    def level_up(self):\n",
    "        if self.EXP >= 50:\n",
    "            self.level += self.EXP//50 #EXP를 50으로 나눈 몫만큼을 더해서 레벨업\n",
    "            self.attack +=10*self.level\n",
    "            self.defence +=5*self.level\n",
    "\n",
    "#캐릭터에서 상속받아서 몬스터 생성\n",
    "class Moster(Character):\n",
    "    def __init__(self,name,level):\n",
    "        self.name = name\n",
    "        self.level = level\n",
    "        self.HP = rd.randint(1,31)*self.level\n",
    "        self.attack = rd.randint(5,21)*self.level\n",
    "        self.defence = rd.randint(1,6)*self.level\n",
    "\n",
    "암조 = Player('박종호')\n",
    "쉪박 = Player('박지운')\n",
    "앞날 = Player('임승현')\n",
    "\n",
    "고블린1 = Moster('고블린1',1,)\n",
    "고블린2 = Moster('고블린2',2,)\n",
    "고블린3 = Moster('고블린3',3,)"
   ]
  },
  {
   "cell_type": "code",
   "execution_count": 65,
   "id": "57afa093",
   "metadata": {},
   "outputs": [
    {
     "name": "stdout",
     "output_type": "stream",
     "text": [
      "박종호의 level:1,HP:100,공격력:25,방어력:5입니다.\n",
      "박지운의 level:1,HP:100,공격력:25,방어력:5입니다.\n",
      "임승현의 level:1,HP:100,공격력:25,방어력:5입니다.\n",
      "고블린1의 level:1,HP:18,공격력:17,방어력:3입니다.\n",
      "고블린2의 level:2,HP:2,공격력:10,방어력:8입니다.\n",
      "고블린3의 level:3,HP:69,공격력:60,방어력:9입니다.\n"
     ]
    }
   ],
   "source": [
    "print(암조.describe())\n",
    "print(쉪박.describe())\n",
    "print(앞날.describe())\n",
    "\n",
    "print(고블린1.describe())\n",
    "print(고블린2.describe())\n",
    "print(고블린3.describe())"
   ]
  },
  {
   "cell_type": "code",
   "execution_count": null,
   "id": "d35ec56e",
   "metadata": {},
   "outputs": [],
   "source": [
    "#회고: 우선 배틀은 어떻게 해야될지 감이 잘 안잡힌다... 오늘 열심히 했지만 건드리지도 못했다...\n",
    "#나의 실력을 받아들이고 클래스 공부를 더 해야되겠다!"
   ]
  }
 ],
 "metadata": {
  "kernelspec": {
   "display_name": "Python 3 (ipykernel)",
   "language": "python",
   "name": "python3"
  },
  "language_info": {
   "codemirror_mode": {
    "name": "ipython",
    "version": 3
   },
   "file_extension": ".py",
   "mimetype": "text/x-python",
   "name": "python",
   "nbconvert_exporter": "python",
   "pygments_lexer": "ipython3",
   "version": "3.9.7"
  }
 },
 "nbformat": 4,
 "nbformat_minor": 5
}
