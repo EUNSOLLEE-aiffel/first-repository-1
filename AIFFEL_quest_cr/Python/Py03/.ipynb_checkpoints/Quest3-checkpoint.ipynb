{
 "cells": [
  {
   "cell_type": "markdown",
   "metadata": {
    "id": "sPRcyZsPorCm"
   },
   "source": [
    "# [파이썬] 퀘스트: 클로저를 활용한 문제해결하기\n",
    "\n",
    "난이도: ★★★★☆  \n",
    "장르: nonlocal, 클로저, 데코레이터 활용  \n",
    "\n",
    "---\n",
    "\n",
    "\n"
   ]
  },
  {
   "cell_type": "markdown",
   "metadata": {
    "id": "Dh2vcnApr4VI"
   },
   "source": [
    "## 문제 1. 최댓값과 최솟값 찾기\n",
    "\n"
   ]
  },
  {
   "cell_type": "markdown",
   "metadata": {
    "id": "d-vXJztpvFD-"
   },
   "source": [
    "조건:  \n",
    "* 주어진 리스트의 최댓값과 최솟값을 반환하는 클로저 함수를 완성해 주세요.\n",
    "    * 주어진 숫자 리스트 numbers에 대해 find_min_max 함수를 호출하면 find_min과 find_max 함수를 얻을 수 있습니다.\n",
    "    * find_min() 함수를 호출하면 최솟값을, find_max()함수를 호출하면 최댓값을 반환합니다.\n",
    "    * 클로저를 사용하여 min_value와 max_value 변수를 외부에 노출하지 않고도 최솟값과 최대값을 찾을 수 있습니다.\n",
    "    * find_min_max 함수가 호출된 이후에도 find_min과 find_max 함수를 통해 min_value와 max_value 변수에 접근할 수 있습니다.\n",
    "* 주석으로 구현 내용이 써있는 부분을 코드로 채워주세요.\n",
    "---\n",
    "입력:\n",
    "```python\n",
    "numbers = [10, 5, 8, 12, 3, 7]\n",
    "find_min, find_max = find_min_max(numbers)\n",
    "\n",
    "print(\"최솟값:\", find_min())  \n",
    "print(\"최댓값:\", find_max())  \n",
    "```\n",
    "---\n",
    "출력:\n",
    "```\n",
    "3\n",
    "12\n",
    "```\n"
   ]
  },
  {
   "cell_type": "code",
   "execution_count": 1,
   "metadata": {
    "id": "oF_uYyS2jjPj"
   },
   "outputs": [],
   "source": [
    "def find_min_max(numbers):\n",
    "    # min_value와 max_value 변수를 초기화\n",
    "    # min_value는 양의 무한대(float('inf'))로 초기화하여 어떤 숫자보다도 큰 값으로 설정\n",
    "    min_value = float('inf') #초기값을 양의 무한대로 설정시켜 어떠한 숫자를 대입하더라도 초기값보다 작은 숫자이기 때문에 비교 가능\n",
    "    # max_value는 음의 무한대(float('-inf'))로 초기화하여 어떤 숫자보다도 작은 값으로 설정\n",
    "    max_value = float('-inf')\n",
    "\n",
    "    def update_min_max(num):\n",
    "        nonlocal min_value, max_value  # 외부함수의 변수인 min_value, max_value 참조\n",
    "\n",
    "        if num < min_value:\n",
    "           min_value = num  # 만약 num 값이 min_value보다 작다면 min_value를 num 값으로 변경\n",
    "\n",
    "        if num > max_value:\n",
    "           max_value = num  # 만약 num 값이 max_value보다 크다면 max_value를 num 값으로 변경\n",
    "\n",
    "\n",
    "\n",
    "    # numbers 리스트의 모든 값을 순환하며 최댓값과 최솟값 업데이트\n",
    "    for num in numbers:\n",
    "        update_min_max(num)\n",
    "\n",
    "    # 최솟값을 반환하는 내부함수\n",
    "    def get_min():\n",
    "        return min_value\n",
    "        #return num을 해보았는데 당연하게도 오류가 나서 최솟값으로 변경\n",
    "\n",
    "    # 최댓값을 반환하는 내부함수\n",
    "    def get_max():\n",
    "        return max_value\n",
    "\n",
    "\n",
    "    # 외부함수는 내부함수(get_min()과 get_max())를 반환\n",
    "    return get_min, get_max\n"
   ]
  },
  {
   "cell_type": "code",
   "execution_count": 2,
   "metadata": {
    "id": "fCd_fJBrobxi"
   },
   "outputs": [
    {
     "name": "stdout",
     "output_type": "stream",
     "text": [
      "최솟값: 3\n",
      "최댓값: 12\n"
     ]
    }
   ],
   "source": [
    "numbers = [10, 5, 8, 12, 3, 7]\n",
    "find_min, find_max = find_min_max(numbers)\n",
    "\n",
    "print(\"최솟값:\", find_min())  # 3\n",
    "print(\"최댓값:\", find_max())  # 12"
   ]
  },
  {
   "cell_type": "markdown",
   "metadata": {
    "id": "d3XECsmXwES5"
   },
   "source": [
    "## 문제 2. 함수의 호출 횟수를 세는 데코레이터"
   ]
  },
  {
   "cell_type": "markdown",
   "metadata": {
    "id": "HTdH6DkVvJMF"
   },
   "source": [
    "지난 시간에 배운 데코레이터를 기억하시나요? 데코레이터도 내부함수를 반환하는 클로저를 활용한 문법입니다. 클로저를 활용하여 함수 호출 횟수를 출력하는 데코레이터를 만들어봅시다.\n",
    "\n",
    "조건:\n",
    "* 함수가 실행될 때 마다 함수 이름과 실행 횟수를 출력하는 데코레이터 `counter` 만들기  \n",
    "\n",
    "힌트:\n",
    "* 데코레이터의 내부 함수(클로저)는 실행횟수를 기억하기 위해 외부 함수의 변수를 참조 해야 합니다\n",
    "* 함수의 이름은 `함수이름.__name__`으로 접근할 수 있습니다.\n",
    "\n",
    "---\n",
    "입력:\n",
    "```python\n",
    "@counter\n",
    "def say_hello():\n",
    "    print(\"Hello Aiffel!\")\n",
    "\n",
    "for i in range(5):\n",
    "    say_hello()\n",
    "```\n",
    "---\n",
    "출력:\n",
    "```\n",
    "Hello Aiffel!\n",
    "say_hello 실행횟수: 1\n",
    "Hello Aiffel!\n",
    "say_hello 실행횟수: 2\n",
    "Hello Aiffel!\n",
    "say_hello 실행횟수: 3\n",
    "Hello Aiffel!\n",
    "say_hello 실행횟수: 4\n",
    "Hello Aiffel!\n",
    "say_hello 실행횟수: 5\n",
    "```"
   ]
  },
  {
   "cell_type": "code",
   "execution_count": 3,
   "metadata": {
    "id": "QYdFtnf-MOCg"
   },
   "outputs": [
    {
     "name": "stdout",
     "output_type": "stream",
     "text": [
      "Hello Aiffel!\n",
      "say_hello 실행횟수: 1\n",
      "Hello Aiffel!\n",
      "say_hello 실행횟수: 2\n",
      "Hello Aiffel!\n",
      "say_hello 실행횟수: 3\n",
      "Hello Aiffel!\n",
      "say_hello 실행횟수: 4\n",
      "Hello Aiffel!\n",
      "say_hello 실행횟수: 5\n"
     ]
    }
   ],
   "source": [
    "def counter(fn):\n",
    "    num = 0\n",
    "    def deco_count(arg):\n",
    "        nonlocal num\n",
    "        fn()\n",
    "        num += 1\n",
    "        print(f\"{fn.__name__} 실행횟수:\" , num)\n",
    "        #num += 1을 이 위치에 넣었는데 출력값이 0부터 시작되는 문제가 발생하여 print하기 전에 1을 더함\n",
    "    return deco_count\n",
    "\n",
    "\n",
    "@counter\n",
    "def say_hello():\n",
    "    print(\"Hello Aiffel!\")\n",
    "\n",
    "for i in range(5):\n",
    "    say_hello(i) # say_hello() 괄호 안을 비우면 오류가 발생하는데, 숫자나 i를 대입하면 정상적으로 출력됨. 이유를 모르겠음."
   ]
  },
  {
   "cell_type": "markdown",
   "metadata": {
    "id": "mKfUWu71UPsv"
   },
   "source": [
    "#회고\n",
    "\n",
    "####박종호\n",
    "- 우선 데코레이터 감이 잘 안잡혀서 노드를 보고 그냥 무작정 비슷하게 만들어 봤는데 실행이 되었다... 처음 nonlocal num을 쓰고 deco_count(num)을 작성했더니 오류가 계속 떠서 혼란이 왔는데 deco_count에 아무변수나 넣어도 되는것을 보고 또 다시 2차 혼란...\n",
    "\n",
    "- 마지막에 say_hello(i)에 아무 숫자나 대입해도 정상적으로 출력이 되어서 이것도 혼란 스럽다...\n",
    "\n",
    "\n",
    "####강민성\n",
    "- 데코레이터에 대해 그루님과 상의하면서 이해하려고 노력했습니다. 아직 잘 모르겠습니다.\n",
    "- 2번 문제 마지막에 say_hello()를 그대로 출력하면 오류가 나서 머리가 아픕니다. 이유를 모르겠어요.\n"
   ]
  },
  {
   "cell_type": "code",
   "execution_count": null,
   "metadata": {},
   "outputs": [],
   "source": []
  },
  {
   "cell_type": "code",
   "execution_count": null,
   "metadata": {},
   "outputs": [],
   "source": []
  },
  {
   "cell_type": "code",
   "execution_count": null,
   "metadata": {},
   "outputs": [],
   "source": []
  }
 ],
 "metadata": {
  "colab": {
   "private_outputs": true,
   "provenance": []
  },
  "kernelspec": {
   "display_name": "Python 3 (ipykernel)",
   "language": "python",
   "name": "python3"
  },
  "language_info": {
   "codemirror_mode": {
    "name": "ipython",
    "version": 3
   },
   "file_extension": ".py",
   "mimetype": "text/x-python",
   "name": "python",
   "nbconvert_exporter": "python",
   "pygments_lexer": "ipython3",
   "version": "3.9.7"
  }
 },
 "nbformat": 4,
 "nbformat_minor": 1
}
